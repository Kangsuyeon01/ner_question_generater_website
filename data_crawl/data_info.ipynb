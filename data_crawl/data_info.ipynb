{
 "cells": [
  {
   "cell_type": "code",
   "execution_count": 3,
   "metadata": {},
   "outputs": [],
   "source": [
    "import json"
   ]
  },
  {
   "cell_type": "code",
   "execution_count": 4,
   "metadata": {},
   "outputs": [],
   "source": [
    "with open('./korean_hist.json', 'r') as f:\n",
    "    data = json.load(f)"
   ]
  },
  {
   "cell_type": "code",
   "execution_count": 12,
   "metadata": {},
   "outputs": [
    {
     "data": {
      "text/plain": [
       "['인물',\n",
       " '지명',\n",
       " '개념',\n",
       " '유물',\n",
       " '단체',\n",
       " '작품',\n",
       " '문헌',\n",
       " '사건',\n",
       " '물품',\n",
       " '제도',\n",
       " '놀이',\n",
       " '유적',\n",
       " '의식행사',\n",
       " '동식물']"
      ]
     },
     "execution_count": 12,
     "metadata": {},
     "output_type": "execute_result"
    }
   ],
   "source": [
    "dict_words = list(data.keys())\n",
    "dict_words "
   ]
  },
  {
   "cell_type": "code",
   "execution_count": 21,
   "metadata": {},
   "outputs": [
    {
     "data": {
      "text/plain": [
       "71464"
      ]
     },
     "execution_count": 21,
     "metadata": {},
     "output_type": "execute_result"
    }
   ],
   "source": [
    "total_sum = 0\n",
    "for word in dict_words:\n",
    "    total_sum += data[word]['word_size']\n",
    "total_sum\n"
   ]
  },
  {
   "cell_type": "code",
   "execution_count": 18,
   "metadata": {},
   "outputs": [
    {
     "name": "stdout",
     "output_type": "stream",
     "text": [
      "[('조선', 'NNP'), ('시대', 'NNG'), ('의', 'JKG'), ('역사', 'NNG'), ('를', 'JKO'), ('살펴보', 'VV'), ('면', 'EC'), (',', 'SC'), ('성리학', 'NNG'), ('과', 'JC'), ('유교', 'NNG'), ('적', 'XSN'), ('인', 'VCP+ETM'), ('가치관', 'NNG'), ('이', 'JKS'), ('국가', 'NNG'), ('를', 'JKO'), ('통치', 'NNG'), ('하', 'XSV'), ('는', 'ETM'), ('데', 'NNB'), ('중요', 'NNG'), ('한', 'XSA+ETM'), ('역할', 'NNG'), ('을', 'JKO'), ('한', 'VV+ETM'), ('것', 'NNB'), ('으로', 'JKB'), ('나타납니다', 'VV+EF'), ('.', 'SF')]\n"
     ]
    }
   ],
   "source": [
    "from konlpy.tag import Mecab\n",
    "\n",
    "# 형태소 분석기 초기화\n",
    "mecab = Mecab()\n",
    "\n",
    "# 텍스트 데이터\n",
    "text = '조선시대의 역사를 살펴보면, 성리학과 유교적인 가치관이 국가를 통치하는 데 중요한 역할을 한 것으로 나타납니다.'\n",
    "\n",
    "# 형태소 분석 수행\n",
    "tokens = mecab.pos(text)\n",
    "\n",
    "# 결과 출력\n",
    "print(tokens)"
   ]
  },
  {
   "cell_type": "code",
   "execution_count": 19,
   "metadata": {},
   "outputs": [
    {
     "name": "stdout",
     "output_type": "stream",
     "text": [
      "성리학 1\n",
      "유교 2\n",
      "가치관 3\n"
     ]
    }
   ],
   "source": [
    "from konlpy.tag import Mecab\n",
    "\n",
    "# 형태소 분석기 초기화\n",
    "mecab = Mecab()\n",
    "\n",
    "# 한국사 용어 목록\n",
    "korean_history_terms = ['조선시대', '성리학', '유교', '가치관', ...]\n",
    "\n",
    "# 사전 초기화\n",
    "korean_history_dict = {}\n",
    "\n",
    "# 사전에 한국사 용어 추가\n",
    "for idx, term in enumerate(korean_history_terms):\n",
    "    korean_history_dict[term] = idx\n",
    "\n",
    "# 텍스트 데이터\n",
    "text = '조선시대의 역사를 살펴보면, 성리학과 유교적인 가치관이 국가를 통치하는 데 중요한 역할을 한 것으로 나타납니다.'\n",
    "\n",
    "# 형태소 분석 수행\n",
    "tokens = mecab.pos(text)\n",
    "\n",
    "# 사전에 있는 단어들만을 이용해 분석 수행\n",
    "for token in tokens:\n",
    "    if token[0] in korean_history_dict:\n",
    "        print(token[0], korean_history_dict[token[0]])"
   ]
  },
  {
   "cell_type": "code",
   "execution_count": null,
   "metadata": {},
   "outputs": [],
   "source": []
  }
 ],
 "metadata": {
  "kernelspec": {
   "display_name": "Python 3.9.15 ('py39')",
   "language": "python",
   "name": "python3"
  },
  "language_info": {
   "codemirror_mode": {
    "name": "ipython",
    "version": 3
   },
   "file_extension": ".py",
   "mimetype": "text/x-python",
   "name": "python",
   "nbconvert_exporter": "python",
   "pygments_lexer": "ipython3",
   "version": "3.9.15"
  },
  "orig_nbformat": 4,
  "vscode": {
   "interpreter": {
    "hash": "b421ec79d7ca3e34b15f8471ad9207fade1051c5af676de55be8a37474d4423d"
   }
  }
 },
 "nbformat": 4,
 "nbformat_minor": 2
}
